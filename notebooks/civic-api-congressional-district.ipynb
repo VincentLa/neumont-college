{
 "cells": [
  {
   "cell_type": "markdown",
   "metadata": {},
   "source": [
    "# Google Civic API\n",
    "See https://developers.google.com/civic-information/docs/v2/representatives/representativeInfoByAddress\n",
    "This is an example of using Google Civic API to get the congressional district inputting an address"
   ]
  },
  {
   "cell_type": "code",
   "execution_count": 28,
   "metadata": {
    "collapsed": true
   },
   "outputs": [],
   "source": [
    "import requests\n",
    "import json\n",
    "import os\n",
    "\n",
    "API_KEY = os.getenv('GOOGLE_STATIC_MAPS_API')"
   ]
  },
  {
   "cell_type": "code",
   "execution_count": 29,
   "metadata": {
    "collapsed": true
   },
   "outputs": [],
   "source": [
    "url = 'https://www.googleapis.com/civicinfo/v2/representatives'"
   ]
  },
  {
   "cell_type": "code",
   "execution_count": 30,
   "metadata": {
    "collapsed": true
   },
   "outputs": [],
   "source": [
    "response = requests.get(url, params={'key': API_KEY, 'address': '22 4th street, san francisco, ca 94103'})"
   ]
  },
  {
   "cell_type": "code",
   "execution_count": 31,
   "metadata": {},
   "outputs": [],
   "source": [
    "results = response.json()"
   ]
  },
  {
   "cell_type": "code",
   "execution_count": 32,
   "metadata": {},
   "outputs": [
    {
     "data": {
      "text/plain": [
       "dict_keys(['kind', 'normalizedInput', 'divisions', 'offices', 'officials'])"
      ]
     },
     "execution_count": 32,
     "metadata": {},
     "output_type": "execute_result"
    }
   ],
   "source": [
    "results.keys()"
   ]
  },
  {
   "cell_type": "code",
   "execution_count": 33,
   "metadata": {},
   "outputs": [
    {
     "data": {
      "text/plain": [
       "{'ocd-division/country:us': {'name': 'United States', 'officeIndices': [0, 1]},\n",
       " 'ocd-division/country:us/state:ca': {'name': 'California',\n",
       "  'officeIndices': [2, 4, 5, 14, 15, 16, 17, 18, 19]},\n",
       " 'ocd-division/country:us/state:ca/cd:12': {'name': \"California's 12th congressional district\",\n",
       "  'officeIndices': [3]},\n",
       " 'ocd-division/country:us/state:ca/county:san_francisco': {'alsoKnownAs': ['ocd-division/country:us/state:ca/place:san_francisco'],\n",
       "  'name': 'San Francisco County',\n",
       "  'officeIndices': [6, 7, 8, 9, 10, 11, 12, 13]}}"
      ]
     },
     "execution_count": 33,
     "metadata": {},
     "output_type": "execute_result"
    }
   ],
   "source": [
    "results['divisions']"
   ]
  },
  {
   "cell_type": "code",
   "execution_count": 34,
   "metadata": {},
   "outputs": [
    {
     "data": {
      "text/plain": [
       "dict_keys(['ocd-division/country:us', 'ocd-division/country:us/state:ca', 'ocd-division/country:us/state:ca/cd:12', 'ocd-division/country:us/state:ca/county:san_francisco'])"
      ]
     },
     "execution_count": 34,
     "metadata": {},
     "output_type": "execute_result"
    }
   ],
   "source": [
    "results['divisions'].keys()"
   ]
  },
  {
   "cell_type": "markdown",
   "metadata": {},
   "source": [
    "From above you can see that the division is cd-12, California's 12th congressional district"
   ]
  },
  {
   "cell_type": "code",
   "execution_count": null,
   "metadata": {
    "collapsed": true
   },
   "outputs": [],
   "source": []
  }
 ],
 "metadata": {
  "kernelspec": {
   "display_name": "Python 3",
   "language": "python",
   "name": "python3"
  },
  "language_info": {
   "codemirror_mode": {
    "name": "ipython",
    "version": 3
   },
   "file_extension": ".py",
   "mimetype": "text/x-python",
   "name": "python",
   "nbconvert_exporter": "python",
   "pygments_lexer": "ipython3",
   "version": "3.6.2"
  }
 },
 "nbformat": 4,
 "nbformat_minor": 2
}
