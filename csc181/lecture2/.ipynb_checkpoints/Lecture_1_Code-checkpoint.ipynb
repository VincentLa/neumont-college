{
 "cells": [
  {
   "cell_type": "markdown",
   "metadata": {},
   "source": [
    "# Lecture 1 Code"
   ]
  },
  {
   "cell_type": "code",
   "execution_count": 1,
   "metadata": {},
   "outputs": [
    {
     "name": "stdout",
     "output_type": "stream",
     "text": [
      "Hello World\n",
      "something else\n",
      "2+2\n",
      "4\n",
      "8\n",
      "8\n",
      "2.0\n",
      "2\n",
      "1\n",
      "4.72\n"
     ]
    }
   ],
   "source": [
    "#statements are interpreted one by one\n",
    "print (\"Hello World\")\n",
    "print (\"something else\")\n",
    "print (\"2+2\")\n",
    "#good style is good\n",
    "print (2 + 2)\n",
    "#PEMDAS is the order, () can be used anywhere to enforce order of evaluation\n",
    "print ((3*2)+2)\n",
    "print (2 ** 3) #This is how we raise thing to the power of something not 2^3\n",
    "print (4 / 2)\n",
    "print (5 // 2) #This is how you can floor a division and get Py2 emulated integer division\n",
    "print (5 % 2) #The modulo gives you a remainder\n",
    "\n",
    "print (round(1.5 * 3.14567688,2)) #round is a function that takes 2 arguments\n",
    "# the value you want to round and the significant digits\n",
    "# these arguments are separated by ,"
   ]
  },
  {
   "cell_type": "code",
   "execution_count": 2,
   "metadata": {},
   "outputs": [
    {
     "name": "stdout",
     "output_type": "stream",
     "text": [
      "16\n",
      "0b10010110\n",
      "Hi  Second string 4567 79\n",
      "8019456.880738118\n"
     ]
    }
   ],
   "source": [
    "# I am rounding some stuff here\n",
    "# and now we will talk about why\n",
    "# I didn't use the print statement\n",
    "print (round (16.5)) #rounds to the closest even integer\n",
    "print (bin(150)) #gets the byte binary representation of an integer\n",
    "print (\"Hi \", \"Second string\", \"4567\", (45 + 34)) #why not...we can print and mix strings and integers\n",
    "\n",
    "#always leave space it's good style\n",
    "print ((3 + 5) * 123423451123 / 123124)\n",
    "\n"
   ]
  },
  {
   "cell_type": "code",
   "execution_count": 3,
   "metadata": {},
   "outputs": [
    {
     "data": {
      "text/plain": [
       "18"
      ]
     },
     "execution_count": 3,
     "metadata": {},
     "output_type": "execute_result"
    }
   ],
   "source": [
    "#because 18 is closer than 16\n",
    "round (17.5)"
   ]
  },
  {
   "cell_type": "code",
   "execution_count": 4,
   "metadata": {},
   "outputs": [
    {
     "name": "stdout",
     "output_type": "stream",
     "text": [
      "1345 Mass Ave, Cambridge, MA 02139\n",
      "30\n",
      "True\n"
     ]
    }
   ],
   "source": [
    "# Variables and names\n",
    "# we reference a value stored in memory\n",
    "my_home = \"1345 Mass Ave, Cambridge, MA 02139\"\n",
    "print (my_home)\n",
    "a = 5\n",
    "b = a\n",
    "b = 6 #at this point b is 6 but a is 5\n",
    "# they both have a reference\n",
    "c = a * b\n",
    "print (c)\n",
    "print (5 == 5) # = assigns == checks for equality"
   ]
  },
  {
   "cell_type": "code",
   "execution_count": 5,
   "metadata": {},
   "outputs": [
    {
     "name": "stdout",
     "output_type": "stream",
     "text": [
      "4438313392\n",
      "4438313328\n",
      "4438313328\n",
      "4438313328\n",
      "4438313328\n"
     ]
    }
   ],
   "source": [
    "a = 3\n",
    "b = 3\n",
    "number_of_cats = 3\n",
    "number_of_dogs = number_of_cats\n",
    "c = a\n",
    "#there is only one 3 in memory at this point with many references\n",
    "a = 5 #garbage collector is not going for 3 because 3 has other references\n",
    "\n",
    "#id prints a unique integere represnting a location in memory\n",
    "print(id(a))\n",
    "print(id(b))\n",
    "print(id(number_of_cats))\n",
    "print(id(number_of_dogs))\n",
    "print (id(c))"
   ]
  },
  {
   "cell_type": "code",
   "execution_count": 6,
   "metadata": {},
   "outputs": [
    {
     "name": "stdout",
     "output_type": "stream",
     "text": [
      "How many cats test\n"
     ]
    }
   ],
   "source": [
    "#I had the segway Error slide so I guess we will ask ourselves if all of this was on purpose\n",
    "#Just kidding it was totally a syntax error :) \n",
    "print (\"How many cats %s\"%\"test\")\n",
    "# Errors are a way of life, learning and temporary frustration"
   ]
  },
  {
   "cell_type": "code",
   "execution_count": 7,
   "metadata": {
    "scrolled": true
   },
   "outputs": [
    {
     "name": "stdout",
     "output_type": "stream",
     "text": [
      "NenadNenadNenadNenadNenad\n",
      "<class 'int'>\n",
      "<class 'str'>\n",
      "helloworld\n"
     ]
    },
    {
     "ename": "TypeError",
     "evalue": "unsupported operand type(s) for /: 'str' and 'int'",
     "output_type": "error",
     "traceback": [
      "\u001b[0;31m---------------------------------------------------------------------------\u001b[0m",
      "\u001b[0;31mTypeError\u001b[0m                                 Traceback (most recent call last)",
      "\u001b[0;32m/var/folders/58/15bsk5_n0tv03tgn3hbbm9d40000gn/T/ipykernel_57224/1352293418.py\u001b[0m in \u001b[0;36m<module>\u001b[0;34m\u001b[0m\n\u001b[1;32m     10\u001b[0m \u001b[0;34m\u001b[0m\u001b[0m\n\u001b[1;32m     11\u001b[0m \u001b[0mprint\u001b[0m \u001b[0;34m(\u001b[0m\u001b[0;34m\"hello\"\u001b[0m \u001b[0;34m\"world\"\u001b[0m\u001b[0;34m)\u001b[0m \u001b[0;31m#BAD, do not!\u001b[0m\u001b[0;34m\u001b[0m\u001b[0;34m\u001b[0m\u001b[0m\n\u001b[0;32m---> 12\u001b[0;31m \u001b[0mprint\u001b[0m \u001b[0;34m(\u001b[0m\u001b[0mmy_name\u001b[0m \u001b[0;34m/\u001b[0m\u001b[0;36m5\u001b[0m\u001b[0;34m)\u001b[0m \u001b[0;31m#can't divide a string with an integer\u001b[0m\u001b[0;34m\u001b[0m\u001b[0;34m\u001b[0m\u001b[0m\n\u001b[0m",
      "\u001b[0;31mTypeError\u001b[0m: unsupported operand type(s) for /: 'str' and 'int'"
     ]
    }
   ],
   "source": [
    "my_name = \"Nenad\"\n",
    "my_dogs_name = \"Ada\"\n",
    "# * is overloaded, not really great\n",
    "print (my_name * 5)\n",
    "\n",
    "a = 5\n",
    "\n",
    "print (type(a))\n",
    "print (type(my_name))\n",
    "\n",
    "print (\"hello\" \"world\") #BAD, do not!\n",
    "print (my_name /5) #can't divide a string with an integer"
   ]
  },
  {
   "cell_type": "markdown",
   "metadata": {},
   "source": [
    "### A bit more on formatters"
   ]
  },
  {
   "cell_type": "code",
   "execution_count": 8,
   "metadata": {},
   "outputs": [
    {
     "name": "stdout",
     "output_type": "stream",
     "text": [
      "My first name is Nenad and I am a Data Scientist at Wave Life Sciences\n",
      "I have been working at Wave for 5 years\n",
      "1234 Hmm... looks like my int is converted to a string \n"
     ]
    },
    {
     "ename": "TypeError",
     "evalue": "%d format: a number is required, not str",
     "output_type": "error",
     "traceback": [
      "\u001b[0;31m---------------------------------------------------------------------------\u001b[0m",
      "\u001b[0;31mTypeError\u001b[0m                                 Traceback (most recent call last)",
      "\u001b[0;32m/var/folders/58/15bsk5_n0tv03tgn3hbbm9d40000gn/T/ipykernel_57224/4222456023.py\u001b[0m in \u001b[0;36m<module>\u001b[0;34m\u001b[0m\n\u001b[1;32m      3\u001b[0m \u001b[0mprint\u001b[0m \u001b[0;34m(\u001b[0m\u001b[0;34m\"I have been working at Wave for %d years\"\u001b[0m\u001b[0;34m%\u001b[0m\u001b[0;36m5\u001b[0m\u001b[0;34m)\u001b[0m\u001b[0;34m\u001b[0m\u001b[0;34m\u001b[0m\u001b[0m\n\u001b[1;32m      4\u001b[0m \u001b[0mprint\u001b[0m \u001b[0;34m(\u001b[0m\u001b[0;34m\"%s Hmm... looks like my int is converted to a string \"\u001b[0m\u001b[0;34m%\u001b[0m\u001b[0;36m1234\u001b[0m\u001b[0;34m)\u001b[0m\u001b[0;34m\u001b[0m\u001b[0;34m\u001b[0m\u001b[0m\n\u001b[0;32m----> 5\u001b[0;31m \u001b[0mprint\u001b[0m \u001b[0;34m(\u001b[0m\u001b[0;34m\"%d Hmm... looks like it doesn't work the other way around \"\u001b[0m\u001b[0;34m%\u001b[0m\u001b[0;34m\"1234\"\u001b[0m\u001b[0;34m)\u001b[0m\u001b[0;34m\u001b[0m\u001b[0;34m\u001b[0m\u001b[0m\n\u001b[0m",
      "\u001b[0;31mTypeError\u001b[0m: %d format: a number is required, not str"
     ]
    }
   ],
   "source": [
    "print (\"My first name is %s and I am a Data Scientist at %s\"%(\"Nenad\",\"Wave Life Sciences\")\n",
    "      )\n",
    "print (\"I have been working at Wave for %d years\"%5)\n",
    "print (\"%s Hmm... looks like my int is converted to a string \"%1234)\n",
    "print (\"%d Hmm... looks like it doesn't work the other way around \"%\"1234\")\n"
   ]
  },
  {
   "cell_type": "code",
   "execution_count": null,
   "metadata": {
    "collapsed": true
   },
   "outputs": [],
   "source": []
  }
 ],
 "metadata": {
  "kernelspec": {
   "display_name": "Python 3 (ipykernel)",
   "language": "python",
   "name": "python3"
  },
  "language_info": {
   "codemirror_mode": {
    "name": "ipython",
    "version": 3
   },
   "file_extension": ".py",
   "mimetype": "text/x-python",
   "name": "python",
   "nbconvert_exporter": "python",
   "pygments_lexer": "ipython3",
   "version": "3.9.7"
  }
 },
 "nbformat": 4,
 "nbformat_minor": 1
}
